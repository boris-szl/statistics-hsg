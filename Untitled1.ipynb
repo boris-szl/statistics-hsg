{
 "cells": [
  {
   "cell_type": "code",
   "execution_count": 184,
   "id": "ec1132f4-f661-48e1-9bda-51410fe5396c",
   "metadata": {},
   "outputs": [],
   "source": [
    "import numpy as np\n",
    "import pandas as pd\n",
    "import matplotlib.pyplot as plt\n",
    "import math as math\n",
    "\n",
    "\n",
    "%matplotlib inline"
   ]
  },
  {
   "cell_type": "code",
   "execution_count": 114,
   "id": "c71696f2-9994-4e0f-a2e7-f4b8a632e3fd",
   "metadata": {},
   "outputs": [],
   "source": [
    "# Markt\n",
    "märkte = [\"GB\",\"F\",\"D\",\"J\",\"CH\"]\n",
    "# Preis = X bezgl. i\n",
    "preis = [21,17,19,25,28]"
   ]
  },
  {
   "cell_type": "code",
   "execution_count": 115,
   "id": "2e9b580b-a286-467e-987c-12ca4718777c",
   "metadata": {},
   "outputs": [
    {
     "data": {
      "text/plain": [
       "array([21, 17, 19, 25, 28])"
      ]
     },
     "execution_count": 115,
     "metadata": {},
     "output_type": "execute_result"
    }
   ],
   "source": [
    "# liste in array\n",
    "märkte_array = np.array(märkte)\n",
    "preis = np.array(preis)\n",
    "preis"
   ]
  },
  {
   "cell_type": "code",
   "execution_count": 116,
   "id": "7987edf9-7ccb-41cf-a2b6-d210855bce27",
   "metadata": {},
   "outputs": [
    {
     "data": {
      "text/plain": [
       "array([21000, 17000, 19000, 25000, 28000])"
      ]
     },
     "execution_count": 116,
     "metadata": {},
     "output_type": "execute_result"
    }
   ],
   "source": [
    "# to perform mathematical opeartions\n",
    "preis=1000*preis # array mit dem skalar 1000 multiplizieren\n",
    "preis"
   ]
  },
  {
   "cell_type": "code",
   "execution_count": 117,
   "id": "bd336946-8e38-42cc-a4e8-01049d54d8d8",
   "metadata": {},
   "outputs": [
    {
     "data": {
      "text/plain": [
       "array([22000, 22000, 22000, 22000, 22000])"
      ]
     },
     "execution_count": 117,
     "metadata": {},
     "output_type": "execute_result"
    }
   ],
   "source": [
    "mean = preis.mean().astype(int)\n",
    "mean = np.array(mean)\n",
    "mean = np.repeat(mean, 5)\n",
    "mean"
   ]
  },
  {
   "cell_type": "code",
   "execution_count": 118,
   "id": "1b90d22b-d4e1-489c-8215-64bbf469d6c2",
   "metadata": {},
   "outputs": [
    {
     "data": {
      "text/plain": [
       "array([-1000, -5000, -3000,  3000,  6000])"
      ]
     },
     "execution_count": 118,
     "metadata": {},
     "output_type": "execute_result"
    }
   ],
   "source": [
    "diff_preis_mean = preis - mean\n",
    "diff_preis_mean"
   ]
  },
  {
   "cell_type": "code",
   "execution_count": 119,
   "id": "e952bffe-5a2c-4a7a-85fd-eb3de8ea5229",
   "metadata": {},
   "outputs": [
    {
     "data": {
      "text/plain": [
       "array([ 1000000, 25000000,  9000000,  9000000, 36000000])"
      ]
     },
     "execution_count": 119,
     "metadata": {},
     "output_type": "execute_result"
    }
   ],
   "source": [
    "diff_preis_mean_to_sqr = np.square(diff_preis_mean)\n",
    "diff_preis_mean_to_sqr"
   ]
  },
  {
   "cell_type": "code",
   "execution_count": 124,
   "id": "fd46be3c-cfd0-4325-97a4-266884e46dc2",
   "metadata": {},
   "outputs": [
    {
     "data": {
      "text/plain": [
       "0    21000\n",
       "1    17000\n",
       "2    19000\n",
       "3    25000\n",
       "4    28000\n",
       "dtype: int64"
      ]
     },
     "execution_count": 124,
     "metadata": {},
     "output_type": "execute_result"
    }
   ],
   "source": [
    "preis = pd.Series(preis)\n",
    "preis"
   ]
  },
  {
   "cell_type": "code",
   "execution_count": 125,
   "id": "22cb6e4a-6c0d-43a4-be2f-fb67f48194fc",
   "metadata": {},
   "outputs": [
    {
     "data": {
      "text/html": [
       "<div>\n",
       "<style scoped>\n",
       "    .dataframe tbody tr th:only-of-type {\n",
       "        vertical-align: middle;\n",
       "    }\n",
       "\n",
       "    .dataframe tbody tr th {\n",
       "        vertical-align: top;\n",
       "    }\n",
       "\n",
       "    .dataframe thead th {\n",
       "        text-align: right;\n",
       "    }\n",
       "</style>\n",
       "<table border=\"1\" class=\"dataframe\">\n",
       "  <thead>\n",
       "    <tr style=\"text-align: right;\">\n",
       "      <th></th>\n",
       "      <th>Preis</th>\n",
       "      <th>Mittelwert</th>\n",
       "      <th>Diff_PuMittel</th>\n",
       "      <th>Diff_PuMittel^2</th>\n",
       "    </tr>\n",
       "  </thead>\n",
       "  <tbody>\n",
       "    <tr>\n",
       "      <th>0</th>\n",
       "      <td>21000</td>\n",
       "      <td>22000</td>\n",
       "      <td>-1000</td>\n",
       "      <td>1000000</td>\n",
       "    </tr>\n",
       "    <tr>\n",
       "      <th>1</th>\n",
       "      <td>17000</td>\n",
       "      <td>22000</td>\n",
       "      <td>-5000</td>\n",
       "      <td>25000000</td>\n",
       "    </tr>\n",
       "    <tr>\n",
       "      <th>2</th>\n",
       "      <td>19000</td>\n",
       "      <td>22000</td>\n",
       "      <td>-3000</td>\n",
       "      <td>9000000</td>\n",
       "    </tr>\n",
       "    <tr>\n",
       "      <th>3</th>\n",
       "      <td>25000</td>\n",
       "      <td>22000</td>\n",
       "      <td>3000</td>\n",
       "      <td>9000000</td>\n",
       "    </tr>\n",
       "    <tr>\n",
       "      <th>4</th>\n",
       "      <td>28000</td>\n",
       "      <td>22000</td>\n",
       "      <td>6000</td>\n",
       "      <td>36000000</td>\n",
       "    </tr>\n",
       "  </tbody>\n",
       "</table>\n",
       "</div>"
      ],
      "text/plain": [
       "   Preis  Mittelwert  Diff_PuMittel  Diff_PuMittel^2\n",
       "0  21000       22000          -1000          1000000\n",
       "1  17000       22000          -5000         25000000\n",
       "2  19000       22000          -3000          9000000\n",
       "3  25000       22000           3000          9000000\n",
       "4  28000       22000           6000         36000000"
      ]
     },
     "execution_count": 125,
     "metadata": {},
     "output_type": "execute_result"
    }
   ],
   "source": [
    "df_table = pd.DataFrame({\n",
    "    \"Preis\":preis,\n",
    "    \"Mittelwert\":mean,\n",
    "    \"Diff_PuMittel\":diff_preis_mean,\n",
    "    \"Diff_PuMittel^2\":diff_preis_mean_to_sqr\n",
    "                        })\n",
    "df_table"
   ]
  },
  {
   "cell_type": "code",
   "execution_count": 178,
   "id": "bf14b76b-d95d-4053-ac93-b5bf36f63abf",
   "metadata": {},
   "outputs": [
    {
     "data": {
      "text/plain": [
       "80000000"
      ]
     },
     "execution_count": 178,
     "metadata": {},
     "output_type": "execute_result"
    }
   ],
   "source": [
    "df = df_table.iloc[:,[3]]\n",
    "sum_diff_x_mean_square = df.to_numpy().sum()\n",
    "x = sum_diff_x_mean_square\n",
    "x"
   ]
  },
  {
   "cell_type": "code",
   "execution_count": 180,
   "id": "2b386b1a-4942-4ee0-8d7b-ae89e99844e5",
   "metadata": {},
   "outputs": [
    {
     "data": {
      "text/plain": [
       "16000000.0"
      ]
     },
     "execution_count": 180,
     "metadata": {},
     "output_type": "execute_result"
    }
   ],
   "source": [
    "x/5 # varianz"
   ]
  },
  {
   "cell_type": "code",
   "execution_count": 187,
   "id": "185803f1-a102-4af1-935a-f0aa5bbd7db1",
   "metadata": {},
   "outputs": [
    {
     "data": {
      "text/plain": [
       "8944.27190999916"
      ]
     },
     "execution_count": 187,
     "metadata": {},
     "output_type": "execute_result"
    }
   ],
   "source": [
    "np.sqrt(x)"
   ]
  },
  {
   "cell_type": "code",
   "execution_count": null,
   "id": "5c2d1208-dc43-4d11-8fa6-008dc8b330f4",
   "metadata": {},
   "outputs": [],
   "source": []
  }
 ],
 "metadata": {
  "kernelspec": {
   "display_name": "Python 3 (ipykernel)",
   "language": "python",
   "name": "python3"
  },
  "language_info": {
   "codemirror_mode": {
    "name": "ipython",
    "version": 3
   },
   "file_extension": ".py",
   "mimetype": "text/x-python",
   "name": "python",
   "nbconvert_exporter": "python",
   "pygments_lexer": "ipython3",
   "version": "3.8.8"
  }
 },
 "nbformat": 4,
 "nbformat_minor": 5
}
