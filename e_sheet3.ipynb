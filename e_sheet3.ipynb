{
 "cells": [
  {
   "cell_type": "markdown",
   "id": "55051712-398f-43dc-96f1-997143895edd",
   "metadata": {},
   "source": [
    "# Diskrete Verteilung"
   ]
  },
  {
   "cell_type": "code",
   "execution_count": 17,
   "id": "781f1d4c-2cdd-48e7-9fb1-d40ff4bdc329",
   "metadata": {},
   "outputs": [],
   "source": [
    "import numpy as np\n",
    "import pandas as pd\n",
    "import math"
   ]
  },
  {
   "cell_type": "markdown",
   "id": "ace784c9-9d0e-4a3f-ac94-0a447e564c98",
   "metadata": {},
   "source": [
    "## Binomialverteilung\n",
    "<ul>\n",
    "    <li>Für Auswahlprobleme in diskreten Wahrscheinlichkeitsräumen</li>\n",
    "    <li>Binomialverteilung für WK mit Zurücklegen</li> \n",
    "</ul>"
   ]
  },
  {
   "cell_type": "code",
   "execution_count": null,
   "id": "cdc9dcb1-d5f6-4140-b17e-6adffba5df41",
   "metadata": {},
   "outputs": [],
   "source": []
  },
  {
   "cell_type": "code",
   "execution_count": 18,
   "id": "4d13fcc8-dd36-4d7e-9023-dbfebbdaa5be",
   "metadata": {},
   "outputs": [
    {
     "data": {
      "text/plain": [
       "21.0"
      ]
     },
     "execution_count": 18,
     "metadata": {},
     "output_type": "execute_result"
    }
   ],
   "source": [
    "def binomial(n,k):\n",
    "    assert(k >=0);\n",
    "    assert(n >= k)\n",
    "    nominator = 1\n",
    "    denominator = 1\n",
    "    for i in range(k):\n",
    "        nominator *= n - i\n",
    "        denominator *= k - i\n",
    "    return nominator / denominator\n",
    "\n",
    "binomial(7,2)"
   ]
  },
  {
   "cell_type": "code",
   "execution_count": 206,
   "id": "5de00728-49ef-4f96-a16d-63258fa3cd1f",
   "metadata": {},
   "outputs": [],
   "source": [
    "def binDistribution(n,k,mu):\n",
    "    return binomial(n,k)*pow(mu,k)*pow((1-mu),(n-k))"
   ]
  },
  {
   "cell_type": "code",
   "execution_count": 207,
   "id": "174244fe-4de8-4908-890a-d5a77e1d5d6d",
   "metadata": {},
   "outputs": [],
   "source": [
    "def probLP(desired_outcome, possible_outcome):\n",
    "    return np.round(desired_outcome / possible_outcome, 4)"
   ]
  },
  {
   "cell_type": "code",
   "execution_count": 208,
   "id": "f7a712c3-5632-4e3e-8910-ded9206a5d2c",
   "metadata": {},
   "outputs": [
    {
     "data": {
      "text/plain": [
       "0.1438704704128335"
      ]
     },
     "execution_count": 208,
     "metadata": {},
     "output_type": "execute_result"
    }
   ],
   "source": [
    "# Glücksrad\n",
    "# mu = 1/9\n",
    "# n = 7\n",
    "# k = 2\n",
    "binDistribution(7,2,1/9)"
   ]
  },
  {
   "cell_type": "code",
   "execution_count": 209,
   "id": "b39346dd-52f3-4304-acf5-a47a5f5f07b7",
   "metadata": {},
   "outputs": [
    {
     "data": {
      "text/plain": [
       "0.21957282050043303"
      ]
     },
     "execution_count": 209,
     "metadata": {},
     "output_type": "execute_result"
    }
   ],
   "source": [
    "# Glücksrad\n",
    "# mu = 1/9\n",
    "# n = 7\n",
    "# k = 2\n",
    "# anzahl der günstigen erreignisse = 4\n",
    "# anzahl der möglichen erreignisse = 9\n",
    "binDistribution(7,2,probLP(4,9))"
   ]
  },
  {
   "cell_type": "code",
   "execution_count": 210,
   "id": "5ecb241b-b4e9-463f-ab4d-ead9cd85c92e",
   "metadata": {},
   "outputs": [],
   "source": [
    "# expected value\n",
    "def binExpectedValue(n, mu):\n",
    "    return n * mu"
   ]
  },
  {
   "cell_type": "code",
   "execution_count": 211,
   "id": "48807f9c-9141-487a-9239-639cfc54bac3",
   "metadata": {},
   "outputs": [],
   "source": [
    "# variance\n",
    "def binVariance(n, mu):\n",
    "    return n*m*(1-mu)"
   ]
  },
  {
   "cell_type": "code",
   "execution_count": 212,
   "id": "3226ccde-4147-4e29-bf91-4ba55203e9d7",
   "metadata": {},
   "outputs": [
    {
     "data": {
      "text/plain": [
       "0.3292181069958849"
      ]
     },
     "execution_count": 212,
     "metadata": {},
     "output_type": "execute_result"
    }
   ],
   "source": [
    "# n = 6\n",
    "# E(x) = 2\n",
    "# Var(x) = 4/3\n",
    "# k = 2\n",
    "# mu = 1/3\n",
    "binDistribution(6,2,1/3)"
   ]
  },
  {
   "cell_type": "markdown",
   "id": "76f67037-0dcb-4d2d-949b-e7364703c4af",
   "metadata": {},
   "source": [
    "## Hypergeometrische Verteilung"
   ]
  },
  {
   "cell_type": "code",
   "execution_count": 213,
   "id": "26fddd32-a6e7-4cc7-8eeb-6290ec639409",
   "metadata": {},
   "outputs": [],
   "source": [
    "# N .... Grundgesamtheit / Universe\n",
    "# n .... Stichprobengrösse\n",
    "# s .... Anzahl der Erfolge Grundgesamtheit\n",
    "# x .... Anzahl der Erfolge in der Stichprobe\n",
    "\n",
    "def hypDistribution(N,n,s,x):\n",
    "    return np.round( ( binomial(s,x) * binomial((N-s),(n-x)) ) / binomial(N,n), 4)"
   ]
  },
  {
   "cell_type": "markdown",
   "id": "43d5e601-17ec-46b0-8783-eb45d15c059e",
   "metadata": {},
   "source": [
    "<b>Bsp:</b><br>14 Personen haben sich beworben. 5 haben bereits im Kommitee gearbeitet, 9 noch nicht. Es werden 5 Mitglieder zufällig ausgewählt. Wie hoch ist die Wahrscheinlichkeit, dass genau 3 erfahrene Mitarbeiter in dem Komitee arbeiten werden"
   ]
  },
  {
   "cell_type": "code",
   "execution_count": 214,
   "id": "6567def4-ff98-4172-a047-5252cc6554e1",
   "metadata": {},
   "outputs": [
    {
     "name": "stdout",
     "output_type": "stream",
     "text": [
      "Die Wahrscheinlichkeit, dass genau drei erfahrene Mitarbeiter im Komitee arbeiten werden ist 0.1798\n"
     ]
    }
   ],
   "source": [
    "# Grundgesamtheit N besteht aus den 14 Bewerbern\n",
    "# Stichprobe ist n ist gleich 5\n",
    "# Anzahl der Erfolge aus der Stichprobe ist gleich 3\n",
    "# Anzhal der Erfogle aus der Grundgesamtheit ist gleich 5\n",
    "\n",
    "print('Die Wahrscheinlichkeit, dass genau drei erfahrene Mitarbeiter im Komitee arbeiten werden ist {}'.format(hypDistribution(14,5,5,3)))"
   ]
  },
  {
   "cell_type": "markdown",
   "id": "96b06d25-fd39-4d88-854b-382b81964948",
   "metadata": {},
   "source": [
    "<b>Bsp:</b><br>\n",
    "2% der Angestellten eines Unternehmens leiden unter Depressionen. Berechnen Sie die Wahrscheinlichkeit, dass unter 100 zufällig ausgewählten Mitarbeitern mindestens 3 unnter Depressionen leiden."
   ]
  },
  {
   "cell_type": "code",
   "execution_count": 215,
   "id": "e9813b53-7273-4ece-87ad-33dfeb7c5ecb",
   "metadata": {},
   "outputs": [],
   "source": [
    "# Berechnung mittels Binomialverteilung\n",
    "# N ... ist unknown\n",
    "# n ... 100\n",
    "# pi ... 2%\n",
    "# k ... 3"
   ]
  },
  {
   "cell_type": "code",
   "execution_count": null,
   "id": "e8615440-cc6a-4a08-86f5-7c43cfc05c3e",
   "metadata": {},
   "outputs": [],
   "source": []
  },
  {
   "cell_type": "code",
   "execution_count": 216,
   "id": "5940f8df-ce2b-492b-b7c5-6c013438a700",
   "metadata": {},
   "outputs": [
    {
     "name": "stdout",
     "output_type": "stream",
     "text": [
      "Die Wahrscheinlichkeit, dass aus 100 zufälligen Mitarbeitern 3 an Depressionen leiden ist 0.3233\n"
     ]
    }
   ],
   "source": [
    "binDistribution(100,2,0.02)\n",
    "tmp = 0\n",
    "for i in range(3):\n",
    "    tmp += binDistribution(100,i,0.02)\n",
    "result_bin = 1 - tmp\n",
    "print('Die Wahrscheinlichkeit, dass aus 100 zufälligen Mitarbeitern 3 an Depressionen leiden ist {}'.format(np.round(result_bin,4)))"
   ]
  },
  {
   "cell_type": "markdown",
   "id": "0648862a-1e4c-4923-b300-531303b932ef",
   "metadata": {},
   "source": [
    "## Poissonverteilung"
   ]
  },
  {
   "cell_type": "markdown",
   "id": "22494461-3065-41e6-9baa-187f48a2698b",
   "metadata": {},
   "source": [
    "<b>Wann findet die Poissonverteilung Anwendung?</b><br>\n",
    "Wenn die Stichprobengrösse n und die Eintrittswahrscheinlichkeit unbekannt sind. Wir allerdings davon ausgehen können, dass die Eintrittswahrscheinlichkeit innerhalb einer Zeitspanne sehr klein ist und, dass n gross ist."
   ]
  },
  {
   "cell_type": "code",
   "execution_count": 217,
   "id": "9331b0b2-d865-4e31-bc53-e7fff0a307ca",
   "metadata": {},
   "outputs": [],
   "source": [
    "# lambda = expected value = varianz = constant value"
   ]
  },
  {
   "cell_type": "code",
   "execution_count": 218,
   "id": "0862d755-d720-45df-a4d0-f2cf10454a68",
   "metadata": {},
   "outputs": [],
   "source": [
    "def faculty(n):\n",
    "    if n == 0: # 0! = 0\n",
    "        return 1\n",
    "    else:\n",
    "        fac = 1 # 1! = 1\n",
    "        for i in range(n):\n",
    "            fac *= n - i\n",
    "    return fac"
   ]
  },
  {
   "cell_type": "code",
   "execution_count": 219,
   "id": "3ba2f99d-8af3-432b-b4e8-70b19de559cf",
   "metadata": {},
   "outputs": [],
   "source": [
    "# lmbda = expected value = variance\n",
    "def poissonLambda(n,mu):\n",
    "    return n * mu"
   ]
  },
  {
   "cell_type": "code",
   "execution_count": 220,
   "id": "231486bf-9174-4ae8-a0cd-cfab3189b157",
   "metadata": {},
   "outputs": [
    {
     "data": {
      "text/plain": [
       "2"
      ]
     },
     "execution_count": 220,
     "metadata": {},
     "output_type": "execute_result"
    }
   ],
   "source": [
    "faculty(2)"
   ]
  },
  {
   "cell_type": "code",
   "execution_count": 221,
   "id": "f095df39-d60b-4a19-a005-c16b7dd99b86",
   "metadata": {},
   "outputs": [
    {
     "name": "stdout",
     "output_type": "stream",
     "text": [
      "0.6703\n",
      "0.2681\n",
      "0.0536\n",
      "0.0072\n",
      "0.0007\n",
      "0.0001\n"
     ]
    }
   ],
   "source": [
    "def poissonDistribution(lmbda, x):\n",
    "    return (pow(lmbda,x)*np.exp(-lmbda))/faculty(x)\n",
    "def poissonDistTable(lmbda,x):\n",
    "    for i in range(x):\n",
    "        print(np.round(poissonDistribution(lmbda,i),4))\n",
    "poissonDistTable(0.4,6)"
   ]
  },
  {
   "cell_type": "code",
   "execution_count": 222,
   "id": "6dac1111-50ca-4618-899c-f6ebe9403ccf",
   "metadata": {},
   "outputs": [
    {
     "data": {
      "text/plain": [
       "0.2238318725470235"
      ]
     },
     "execution_count": 222,
     "metadata": {},
     "output_type": "execute_result"
    }
   ],
   "source": [
    "# wann wird die poissonverteilung angewandt\n",
    "# dann, wenn n und die wk nicht einzeln bekannt sind, sondern lediglich nur der mittelwert\n",
    "# anwendung für wk kleiner als < 0.05\n",
    "poissonDistribution(1.25,2)"
   ]
  },
  {
   "cell_type": "markdown",
   "id": "ba9cc7ab-a65b-4dad-b35f-4530769614cd",
   "metadata": {},
   "source": [
    "<b>Bsp:</b><br>\n",
    "Wie hoch ist die WK, dass aus 100 zufälligen Mitarbeitern mind. 3 an Depressionen leiden, wenn im Durchschnitt 2% der Angestellten unter einer Depression leiden. Berechne die WK mittels der Poissonverteilung."
   ]
  },
  {
   "cell_type": "code",
   "execution_count": 223,
   "id": "fc016484-9a2b-4365-8d61-0ca6099e813b",
   "metadata": {},
   "outputs": [
    {
     "data": {
      "text/plain": [
       "0.3233235838169365"
      ]
     },
     "execution_count": 223,
     "metadata": {},
     "output_type": "execute_result"
    }
   ],
   "source": [
    "lmbda = poissonLambda(100,0.02)\n",
    "x = 3\n",
    "tmp_2 = 0\n",
    "a = poissonDistribution(lmbda,0)\n",
    "b = poissonDistribution(lmbda,1)\n",
    "c = poissonDistribution(lmbda,2)\n",
    "result_p = 1 - a - b - c\n",
    "result_p"
   ]
  },
  {
   "cell_type": "code",
   "execution_count": 224,
   "id": "e4b0289d-a34d-4c38-a38d-93a93ffb4f20",
   "metadata": {},
   "outputs": [
    {
     "data": {
      "text/html": [
       "<div>\n",
       "<style scoped>\n",
       "    .dataframe tbody tr th:only-of-type {\n",
       "        vertical-align: middle;\n",
       "    }\n",
       "\n",
       "    .dataframe tbody tr th {\n",
       "        vertical-align: top;\n",
       "    }\n",
       "\n",
       "    .dataframe thead th {\n",
       "        text-align: right;\n",
       "    }\n",
       "</style>\n",
       "<table border=\"1\" class=\"dataframe\">\n",
       "  <thead>\n",
       "    <tr style=\"text-align: right;\">\n",
       "      <th></th>\n",
       "      <th>Binomialverteilung</th>\n",
       "      <th>Poissionverteilung</th>\n",
       "      <th>Absolute Abweichung</th>\n",
       "    </tr>\n",
       "  </thead>\n",
       "  <tbody>\n",
       "    <tr>\n",
       "      <th>1</th>\n",
       "      <td>0.323314</td>\n",
       "      <td>0.323324</td>\n",
       "      <td>-0.000009</td>\n",
       "    </tr>\n",
       "  </tbody>\n",
       "</table>\n",
       "</div>"
      ],
      "text/plain": [
       "   Binomialverteilung  Poissionverteilung  Absolute Abweichung\n",
       "1            0.323314            0.323324            -0.000009"
      ]
     },
     "execution_count": 224,
     "metadata": {},
     "output_type": "execute_result"
    }
   ],
   "source": [
    "# 1) Berechnung des Erwartungswerts ist lambda = n * mu\n",
    "# 2) Berechnung der WK mittels Poissonverteilung\n",
    "poissonDistribution(poissonLambda(100,0.02),2)\n",
    "\n",
    "vergleich = pd.DataFrame({\n",
    "    \"Binomialverteilung\":result_bin,\n",
    "    \"Poissionverteilung\":result_p,\n",
    "    \"Absolute Abweichung\": result_bin - result_p\n",
    "}, index=[1])\n",
    "vergleich"
   ]
  },
  {
   "cell_type": "code",
   "execution_count": 121,
   "id": "3b36cb5a-f126-4954-aeba-0705143a9686",
   "metadata": {},
   "outputs": [
    {
     "name": "stdout",
     "output_type": "stream",
     "text": [
      "1 : 0.00045400\n",
      "2 : 0.00227000\n",
      "3 : 0.00756665\n",
      "4 : 0.01891664\n",
      "5 : 0.03783327\n",
      "6 : 0.06305546\n",
      "7 : 0.09007923\n",
      "8 : 0.11259903\n",
      "9 : 0.12511004\n",
      "10 : 0.12511004\n",
      "11 : 0.11373640\n",
      "12 : 0.09478033\n",
      "13 : 0.07290795\n",
      "14 : 0.05207710\n",
      "15 : 0.03471807\n",
      "16 : 0.02169879\n",
      "17 : 0.01276400\n",
      "18 : 0.00709111\n",
      "19 : 0.00373216\n",
      "20 : 0.00186608\n"
     ]
    }
   ],
   "source": [
    "# Portfolio\n",
    "# N = 1000 ... Anzahl der Kredite in einem Portfolio\n",
    "# unabhängige Ausfallwahrscheinlichkeit von 1% (WK Unabhängig)\n",
    "# N = n = 1000\n",
    "# Ausfallwahrscheinlichkeit von x Ausfällen modellieren\n",
    "values_for_poisson = []\n",
    "lmbda = poissonLambda(1000,0.01) # = 10\n",
    "x = 20\n",
    "for i in range(1,x+1):\n",
    "    values_for_poisson.append(poissonDistribution(lmbda,i))\n",
    "    print('{} : {:.8f}'.format(i, poissonDistribution(lmbda,i)))\n",
    "np_values_for_poisson = np.array(values_for_poisson)"
   ]
  },
  {
   "cell_type": "code",
   "execution_count": 65,
   "id": "a0914716-52de-4365-a04e-e9808fc6f829",
   "metadata": {},
   "outputs": [
    {
     "name": "stdout",
     "output_type": "stream",
     "text": [
      "1 : 0.00040000\n",
      "2 : 0.00220000\n",
      "3 : 0.00740000\n",
      "4 : 0.01860000\n",
      "5 : 0.03750000\n",
      "6 : 0.06270000\n",
      "7 : 0.09000000\n",
      "8 : 0.11280000\n",
      "9 : 0.12560000\n",
      "10 : 0.12570000\n",
      "11 : 0.11430000\n",
      "12 : 0.09520000\n",
      "13 : 0.07310000\n",
      "14 : 0.05200000\n",
      "15 : 0.03450000\n",
      "16 : 0.02150000\n",
      "17 : 0.01260000\n",
      "18 : 0.00690000\n",
      "19 : 0.00360000\n",
      "20 : 0.00180000\n"
     ]
    },
    {
     "data": {
      "text/plain": [
       "array([0.0004, 0.0022, 0.0074, 0.0186, 0.0375, 0.0627, 0.09  , 0.1128,\n",
       "       0.1256, 0.1257, 0.1143, 0.0952, 0.0731, 0.052 , 0.0345, 0.0215,\n",
       "       0.0126, 0.0069, 0.0036, 0.0018])"
      ]
     },
     "execution_count": 65,
     "metadata": {},
     "output_type": "execute_result"
    }
   ],
   "source": [
    "values_for_bin = []\n",
    "for i in range(1,x+1):\n",
    "    values_for_bin.append(binDistribution(1000,i,0.01))\n",
    "    print('{} : {:.8f}'.format(i, binDistribution(1000,i,0.01)))\n",
    "np_values_for_bin = np.array(values_for_bin)\n",
    "np_values_for_bin"
   ]
  },
  {
   "cell_type": "code",
   "execution_count": 66,
   "id": "3bb65406-5d14-4b1d-9623-d815f0614730",
   "metadata": {},
   "outputs": [
    {
     "data": {
      "text/plain": [
       "0     0.000454\n",
       "1     0.002270\n",
       "2     0.007567\n",
       "3     0.018917\n",
       "4     0.037833\n",
       "5     0.063055\n",
       "6     0.090079\n",
       "7     0.112599\n",
       "8     0.125110\n",
       "9     0.125110\n",
       "10    0.113736\n",
       "11    0.094780\n",
       "12    0.072908\n",
       "13    0.052077\n",
       "14    0.034718\n",
       "15    0.021699\n",
       "16    0.012764\n",
       "17    0.007091\n",
       "18    0.003732\n",
       "19    0.001866\n",
       "dtype: float64"
      ]
     },
     "execution_count": 66,
     "metadata": {},
     "output_type": "execute_result"
    }
   ],
   "source": [
    "values_poisson = pd.Series(np_values_for_poisson)\n",
    "values_poisson"
   ]
  },
  {
   "cell_type": "code",
   "execution_count": 67,
   "id": "64bf7c12-5da5-48bc-b0ac-f8b7342d2452",
   "metadata": {},
   "outputs": [
    {
     "data": {
      "text/plain": [
       "0     0.0004\n",
       "1     0.0022\n",
       "2     0.0074\n",
       "3     0.0186\n",
       "4     0.0375\n",
       "5     0.0627\n",
       "6     0.0900\n",
       "7     0.1128\n",
       "8     0.1256\n",
       "9     0.1257\n",
       "10    0.1143\n",
       "11    0.0952\n",
       "12    0.0731\n",
       "13    0.0520\n",
       "14    0.0345\n",
       "15    0.0215\n",
       "16    0.0126\n",
       "17    0.0069\n",
       "18    0.0036\n",
       "19    0.0018\n",
       "dtype: float64"
      ]
     },
     "execution_count": 67,
     "metadata": {},
     "output_type": "execute_result"
    }
   ],
   "source": [
    "values_bin = pd.Series(np_values_for_bin)\n",
    "values_bin"
   ]
  },
  {
   "cell_type": "code",
   "execution_count": 68,
   "id": "722bfcda-82c4-4efa-a918-f0b17c431999",
   "metadata": {},
   "outputs": [
    {
     "data": {
      "text/plain": [
       "0    -0.000054\n",
       "1    -0.000070\n",
       "2    -0.000167\n",
       "3    -0.000317\n",
       "4    -0.000333\n",
       "5    -0.000355\n",
       "6    -0.000079\n",
       "7     0.000201\n",
       "8     0.000490\n",
       "9     0.000590\n",
       "10    0.000564\n",
       "11    0.000420\n",
       "12    0.000192\n",
       "13   -0.000077\n",
       "14   -0.000218\n",
       "15   -0.000199\n",
       "16   -0.000164\n",
       "17   -0.000191\n",
       "18   -0.000132\n",
       "19   -0.000066\n",
       "dtype: float64"
      ]
     },
     "execution_count": 68,
     "metadata": {},
     "output_type": "execute_result"
    }
   ],
   "source": [
    "values_bin - values_poisson"
   ]
  },
  {
   "cell_type": "code",
   "execution_count": 69,
   "id": "a4a872c2-30c3-4385-a5ef-0d0a380aca7f",
   "metadata": {},
   "outputs": [],
   "source": [
    "comparison = pd.DataFrame({\n",
    "    'Binomialdistribution':values_bin,\n",
    "    'Poissondistribution':values_poisson,\n",
    "    'Difference':values_bin - values_poisson,\n",
    "})"
   ]
  },
  {
   "cell_type": "code",
   "execution_count": 70,
   "id": "0f0b74cc-e2f3-4113-8adf-0462a3570928",
   "metadata": {},
   "outputs": [
    {
     "data": {
      "text/html": [
       "<div>\n",
       "<style scoped>\n",
       "    .dataframe tbody tr th:only-of-type {\n",
       "        vertical-align: middle;\n",
       "    }\n",
       "\n",
       "    .dataframe tbody tr th {\n",
       "        vertical-align: top;\n",
       "    }\n",
       "\n",
       "    .dataframe thead th {\n",
       "        text-align: right;\n",
       "    }\n",
       "</style>\n",
       "<table border=\"1\" class=\"dataframe\">\n",
       "  <thead>\n",
       "    <tr style=\"text-align: right;\">\n",
       "      <th></th>\n",
       "      <th>Binomialdistribution</th>\n",
       "      <th>Poissondistribution</th>\n",
       "      <th>Difference</th>\n",
       "    </tr>\n",
       "  </thead>\n",
       "  <tbody>\n",
       "    <tr>\n",
       "      <th>0</th>\n",
       "      <td>0.0004</td>\n",
       "      <td>0.000454</td>\n",
       "      <td>-0.000054</td>\n",
       "    </tr>\n",
       "    <tr>\n",
       "      <th>1</th>\n",
       "      <td>0.0022</td>\n",
       "      <td>0.002270</td>\n",
       "      <td>-0.000070</td>\n",
       "    </tr>\n",
       "    <tr>\n",
       "      <th>2</th>\n",
       "      <td>0.0074</td>\n",
       "      <td>0.007567</td>\n",
       "      <td>-0.000167</td>\n",
       "    </tr>\n",
       "    <tr>\n",
       "      <th>3</th>\n",
       "      <td>0.0186</td>\n",
       "      <td>0.018917</td>\n",
       "      <td>-0.000317</td>\n",
       "    </tr>\n",
       "    <tr>\n",
       "      <th>4</th>\n",
       "      <td>0.0375</td>\n",
       "      <td>0.037833</td>\n",
       "      <td>-0.000333</td>\n",
       "    </tr>\n",
       "    <tr>\n",
       "      <th>5</th>\n",
       "      <td>0.0627</td>\n",
       "      <td>0.063055</td>\n",
       "      <td>-0.000355</td>\n",
       "    </tr>\n",
       "    <tr>\n",
       "      <th>6</th>\n",
       "      <td>0.0900</td>\n",
       "      <td>0.090079</td>\n",
       "      <td>-0.000079</td>\n",
       "    </tr>\n",
       "    <tr>\n",
       "      <th>7</th>\n",
       "      <td>0.1128</td>\n",
       "      <td>0.112599</td>\n",
       "      <td>0.000201</td>\n",
       "    </tr>\n",
       "    <tr>\n",
       "      <th>8</th>\n",
       "      <td>0.1256</td>\n",
       "      <td>0.125110</td>\n",
       "      <td>0.000490</td>\n",
       "    </tr>\n",
       "    <tr>\n",
       "      <th>9</th>\n",
       "      <td>0.1257</td>\n",
       "      <td>0.125110</td>\n",
       "      <td>0.000590</td>\n",
       "    </tr>\n",
       "    <tr>\n",
       "      <th>10</th>\n",
       "      <td>0.1143</td>\n",
       "      <td>0.113736</td>\n",
       "      <td>0.000564</td>\n",
       "    </tr>\n",
       "    <tr>\n",
       "      <th>11</th>\n",
       "      <td>0.0952</td>\n",
       "      <td>0.094780</td>\n",
       "      <td>0.000420</td>\n",
       "    </tr>\n",
       "    <tr>\n",
       "      <th>12</th>\n",
       "      <td>0.0731</td>\n",
       "      <td>0.072908</td>\n",
       "      <td>0.000192</td>\n",
       "    </tr>\n",
       "    <tr>\n",
       "      <th>13</th>\n",
       "      <td>0.0520</td>\n",
       "      <td>0.052077</td>\n",
       "      <td>-0.000077</td>\n",
       "    </tr>\n",
       "    <tr>\n",
       "      <th>14</th>\n",
       "      <td>0.0345</td>\n",
       "      <td>0.034718</td>\n",
       "      <td>-0.000218</td>\n",
       "    </tr>\n",
       "    <tr>\n",
       "      <th>15</th>\n",
       "      <td>0.0215</td>\n",
       "      <td>0.021699</td>\n",
       "      <td>-0.000199</td>\n",
       "    </tr>\n",
       "    <tr>\n",
       "      <th>16</th>\n",
       "      <td>0.0126</td>\n",
       "      <td>0.012764</td>\n",
       "      <td>-0.000164</td>\n",
       "    </tr>\n",
       "    <tr>\n",
       "      <th>17</th>\n",
       "      <td>0.0069</td>\n",
       "      <td>0.007091</td>\n",
       "      <td>-0.000191</td>\n",
       "    </tr>\n",
       "    <tr>\n",
       "      <th>18</th>\n",
       "      <td>0.0036</td>\n",
       "      <td>0.003732</td>\n",
       "      <td>-0.000132</td>\n",
       "    </tr>\n",
       "    <tr>\n",
       "      <th>19</th>\n",
       "      <td>0.0018</td>\n",
       "      <td>0.001866</td>\n",
       "      <td>-0.000066</td>\n",
       "    </tr>\n",
       "  </tbody>\n",
       "</table>\n",
       "</div>"
      ],
      "text/plain": [
       "    Binomialdistribution  Poissondistribution  Difference\n",
       "0                 0.0004             0.000454   -0.000054\n",
       "1                 0.0022             0.002270   -0.000070\n",
       "2                 0.0074             0.007567   -0.000167\n",
       "3                 0.0186             0.018917   -0.000317\n",
       "4                 0.0375             0.037833   -0.000333\n",
       "5                 0.0627             0.063055   -0.000355\n",
       "6                 0.0900             0.090079   -0.000079\n",
       "7                 0.1128             0.112599    0.000201\n",
       "8                 0.1256             0.125110    0.000490\n",
       "9                 0.1257             0.125110    0.000590\n",
       "10                0.1143             0.113736    0.000564\n",
       "11                0.0952             0.094780    0.000420\n",
       "12                0.0731             0.072908    0.000192\n",
       "13                0.0520             0.052077   -0.000077\n",
       "14                0.0345             0.034718   -0.000218\n",
       "15                0.0215             0.021699   -0.000199\n",
       "16                0.0126             0.012764   -0.000164\n",
       "17                0.0069             0.007091   -0.000191\n",
       "18                0.0036             0.003732   -0.000132\n",
       "19                0.0018             0.001866   -0.000066"
      ]
     },
     "execution_count": 70,
     "metadata": {},
     "output_type": "execute_result"
    }
   ],
   "source": [
    "comparison"
   ]
  },
  {
   "cell_type": "code",
   "execution_count": 288,
   "id": "f68ea4b1-b7e8-462c-9ebd-8b7484f97a89",
   "metadata": {},
   "outputs": [
    {
     "name": "stdout",
     "output_type": "stream",
     "text": [
      "0 : 0.6703\n",
      "1 : 0.2681\n",
      "2 : 0.0536\n",
      "3 : 0.0072\n",
      "4 : 0.0007\n",
      "5 : 0.0001\n"
     ]
    }
   ],
   "source": [
    "# Bsp: Virusattacken\n",
    "# Mittel pro Woche = 0.4\n",
    "# Durchschnittlicher Schaden = 10000\n",
    "lmbda = 0.4\n",
    "x = 6\n",
    "for i in range(x):\n",
    "    print('{} : {:.4f}'.format(i,poissonDistribution(0.4,i)))"
   ]
  },
  {
   "cell_type": "markdown",
   "id": "1988213c-db73-41d2-9854-9a4544cb4c14",
   "metadata": {},
   "source": [
    "## Stetige Verteilung"
   ]
  },
  {
   "cell_type": "code",
   "execution_count": 289,
   "id": "2c62c6e6-2113-49ed-8aba-bc8e70a2af6a",
   "metadata": {},
   "outputs": [],
   "source": [
    "def calculateZ(x,mu,sigma):\n",
    "    return np.round( (x-mu)/sigma, 4)"
   ]
  },
  {
   "cell_type": "code",
   "execution_count": 290,
   "id": "7e8df14a-8d52-4e56-a7b7-c0f61f79f600",
   "metadata": {},
   "outputs": [
    {
     "data": {
      "text/plain": [
       "[2.8396, -1.0066, 1.1912, -2.6549]"
      ]
     },
     "execution_count": 290,
     "metadata": {},
     "output_type": "execute_result"
    }
   ],
   "source": [
    "zeeees = [] # in cpp this would be an array, or as to say a vector\n",
    "random_variables = [10000,6500,8500,5000]\n",
    "# define mu\n",
    "# define sigma \n",
    "mu = 7416\n",
    "sigma = 910\n",
    "for i in random_variables:\n",
    "    zeeees.append(calculateZ(i,mu,sigma))\n",
    "zeeees"
   ]
  },
  {
   "cell_type": "code",
   "execution_count": 287,
   "id": "6158dd62-bdb1-439c-8a13-f1390241f3e0",
   "metadata": {},
   "outputs": [],
   "source": [
    "# format table (missing)\n",
    "URL = 'https://de.wikipedia.org/wiki/Standardnormalverteilungstabelle'\n",
    "table = pd.read_html(URL)"
   ]
  },
  {
   "cell_type": "code",
   "execution_count": null,
   "id": "49ac8196-5ea2-430a-9a0c-e2119dc93a34",
   "metadata": {},
   "outputs": [],
   "source": []
  },
  {
   "cell_type": "code",
   "execution_count": null,
   "id": "6b67c4ef-cc2b-472f-833b-7acc10186747",
   "metadata": {},
   "outputs": [],
   "source": []
  },
  {
   "cell_type": "code",
   "execution_count": null,
   "id": "12b4ab58-07e4-439f-86c1-89bb5a846496",
   "metadata": {},
   "outputs": [],
   "source": []
  },
  {
   "cell_type": "code",
   "execution_count": null,
   "id": "00cadbbf-c7d5-4f56-9849-d94a13e75fed",
   "metadata": {},
   "outputs": [],
   "source": []
  },
  {
   "cell_type": "code",
   "execution_count": null,
   "id": "7438e2f7-1448-4915-b55e-f6e6c4157285",
   "metadata": {},
   "outputs": [],
   "source": []
  },
  {
   "cell_type": "code",
   "execution_count": null,
   "id": "2d724a4a-62d5-4111-a618-60089a46617f",
   "metadata": {},
   "outputs": [],
   "source": []
  },
  {
   "cell_type": "code",
   "execution_count": null,
   "id": "39d9db12-5fb5-4813-999e-5bb63bb3f9f7",
   "metadata": {},
   "outputs": [],
   "source": []
  }
 ],
 "metadata": {
  "kernelspec": {
   "display_name": "Python 3 (ipykernel)",
   "language": "python",
   "name": "python3"
  },
  "language_info": {
   "codemirror_mode": {
    "name": "ipython",
    "version": 3
   },
   "file_extension": ".py",
   "mimetype": "text/x-python",
   "name": "python",
   "nbconvert_exporter": "python",
   "pygments_lexer": "ipython3",
   "version": "3.8.8"
  }
 },
 "nbformat": 4,
 "nbformat_minor": 5
}
